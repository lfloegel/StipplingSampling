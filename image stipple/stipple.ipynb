{
 "cells": [
  {
   "cell_type": "code",
   "execution_count": 1,
   "metadata": {},
   "outputs": [
    {
     "ename": "ModuleNotFoundError",
     "evalue": "No module named 'chaospy'",
     "output_type": "error",
     "traceback": [
      "\u001b[0;31m---------------------------------------------------------------------------\u001b[0m",
      "\u001b[0;31mModuleNotFoundError\u001b[0m                       Traceback (most recent call last)",
      "\u001b[0;32m<ipython-input-1-9e68eaa2b01d>\u001b[0m in \u001b[0;36m<module>\u001b[0;34m\u001b[0m\n\u001b[1;32m      1\u001b[0m \u001b[0;32mimport\u001b[0m \u001b[0mnumpy\u001b[0m \u001b[0;32mas\u001b[0m \u001b[0mnp\u001b[0m\u001b[0;34m\u001b[0m\u001b[0;34m\u001b[0m\u001b[0m\n\u001b[1;32m      2\u001b[0m \u001b[0;32mimport\u001b[0m \u001b[0mrandom\u001b[0m\u001b[0;34m\u001b[0m\u001b[0;34m\u001b[0m\u001b[0m\n\u001b[0;32m----> 3\u001b[0;31m \u001b[0;32mimport\u001b[0m \u001b[0mchaospy\u001b[0m\u001b[0;34m\u001b[0m\u001b[0;34m\u001b[0m\u001b[0m\n\u001b[0m\u001b[1;32m      4\u001b[0m \u001b[0;32mfrom\u001b[0m \u001b[0mPIL\u001b[0m \u001b[0;32mimport\u001b[0m \u001b[0mImage\u001b[0m\u001b[0;34m,\u001b[0m \u001b[0mImageOps\u001b[0m\u001b[0;34m,\u001b[0m \u001b[0mImageDraw\u001b[0m\u001b[0;34m\u001b[0m\u001b[0;34m\u001b[0m\u001b[0m\n\u001b[1;32m      5\u001b[0m \u001b[0;31m#open image, convert to grayscale\u001b[0m\u001b[0;34m\u001b[0m\u001b[0;34m\u001b[0m\u001b[0;34m\u001b[0m\u001b[0m\n",
      "\u001b[0;31mModuleNotFoundError\u001b[0m: No module named 'chaospy'"
     ]
    }
   ],
   "source": [
    "import numpy as np\n",
    "import random\n",
    "import chaospy\n",
    "from PIL import Image, ImageOps, ImageDraw\n",
    "#open image, convert to grayscale\n",
    "im = Image.open(\"/users/larafs/desktop/duck3.png\").convert('L')\n",
    "im.size"
   ]
  },
  {
   "cell_type": "code",
   "execution_count": 456,
   "metadata": {},
   "outputs": [],
   "source": [
    "#invert image\n",
    "invert_im = ImageOps.invert(im)\n",
    "w, h = invert_im.size"
   ]
  },
  {
   "cell_type": "code",
   "execution_count": 457,
   "metadata": {},
   "outputs": [],
   "source": [
    "#put into 2d array\n",
    "im_a = np.array(invert_im)"
   ]
  },
  {
   "cell_type": "code",
   "execution_count": 458,
   "metadata": {},
   "outputs": [],
   "source": [
    "coords = []\n",
    "for sample_pixels in range(round(im_a.size/1)):\n",
    "    summed_rows = im_a.sum(axis=1)\n",
    "    normalized_summed_column = summed_rows / np.sum(summed_rows)\n",
    "    \n",
    "    ksi1 = random.uniform(0,1)\n",
    "    prob_sum = 0\n",
    "    get_row = 0\n",
    "    prob_sum = prob_sum + normalized_summed_column[get_row]\n",
    "    while ksi1 > prob_sum:\n",
    "        get_row = get_row + 1\n",
    "        prob_sum = prob_sum + normalized_summed_column[get_row]\n",
    "    get_row = get_row - 1\n",
    "    \n",
    "    summed_column = im_a[get_row].sum()\n",
    "    normalized_row = im_a[get_row] / summed_column\n",
    "    \n",
    "    ksi2 = random.uniform(0,1)\n",
    "    prob_sum2 = 0\n",
    "    get_column = 0\n",
    "    prob_sum2 = prob_sum2 + normalized_row[get_column]\n",
    "    while ksi2 > prob_sum2:\n",
    "        get_column = get_column + 1\n",
    "        prob_sum2 = prob_sum2 + normalized_row[get_column]\n",
    "    get_column = get_column - 1\n",
    "    coords.append((get_column, get_row))\n",
    "    \n",
    "    "
   ]
  },
  {
   "cell_type": "code",
   "execution_count": 459,
   "metadata": {},
   "outputs": [],
   "source": [
    "img = Image.new(\"RGB\", (w,h), \"white\")\n",
    "draw = ImageDraw.Draw(img)\n",
    "dotSize = 1\n",
    "for (x,y) in coords:\n",
    "    draw.rectangle([x,y,x+dotSize-1, y+dotSize-1], fill=\"black\")\n",
    "img.save('sampled_house.png')"
   ]
  },
  {
   "cell_type": "code",
   "execution_count": null,
   "metadata": {},
   "outputs": [],
   "source": []
  }
 ],
 "metadata": {
  "kernelspec": {
   "display_name": "Python 3",
   "language": "python",
   "name": "python3"
  },
  "language_info": {
   "codemirror_mode": {
    "name": "ipython",
    "version": 3
   },
   "file_extension": ".py",
   "mimetype": "text/x-python",
   "name": "python",
   "nbconvert_exporter": "python",
   "pygments_lexer": "ipython3",
   "version": "3.7.4"
  }
 },
 "nbformat": 4,
 "nbformat_minor": 2
}
